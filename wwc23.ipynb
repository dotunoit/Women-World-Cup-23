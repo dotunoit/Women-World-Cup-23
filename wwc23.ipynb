{
 "cells": [
  {
   "cell_type": "code",
   "execution_count": 3,
   "id": "07e11e85",
   "metadata": {},
   "outputs": [],
   "source": [
    "import pandas as pd\n",
    "import numpy as np\n",
    "import seaborn as sns\n",
    "import matplotlib.pyplot as plt\n",
    "import pygwalker as pyg\n",
    "import warnings \n",
    "warnings.filterwarnings('ignore')"
   ]
  },
  {
   "cell_type": "code",
   "execution_count": 4,
   "id": "fd1e4eb4",
   "metadata": {},
   "outputs": [],
   "source": [
    "#insert scrapped dataset\n",
    "df = pd.read_csv(\"C:/Users/HP/Desktop/World Cup.csv\")"
   ]
  },
  {
   "cell_type": "code",
   "execution_count": 4,
   "id": "17285a54",
   "metadata": {},
   "outputs": [],
   "source": [
    "# Convert Age column to numeric\n",
    "df['Age'] = pd.to_numeric(df['Age'], errors='coerce')"
   ]
  },
  {
   "cell_type": "code",
   "execution_count": 5,
   "id": "8b59efcb",
   "metadata": {},
   "outputs": [],
   "source": [
    "# Convert Caps column to numeric\n",
    "df['Caps'] = pd.to_numeric(df['Caps'], errors='coerce')"
   ]
  },
  {
   "cell_type": "code",
   "execution_count": 6,
   "id": "722f7c2f",
   "metadata": {},
   "outputs": [],
   "source": [
    "# Convert Goals column to numeric\n",
    "df['Goals'] = pd.to_numeric(df['Goals'], errors='coerce')"
   ]
  },
  {
   "cell_type": "code",
   "execution_count": 7,
   "id": "ec34f427",
   "metadata": {},
   "outputs": [],
   "source": [
    "# Convert DOB column to datetime\n",
    "df['DOB'] = pd.to_datetime(df['DOB'])"
   ]
  },
  {
   "cell_type": "code",
   "execution_count": 8,
   "id": "b60822b2",
   "metadata": {},
   "outputs": [],
   "source": [
    "# Fill NA values with 0 in Caps and Goals columns\n",
    "df['Caps'].fillna(0, inplace=True)\n",
    "df['Goals'].fillna(0, inplace=True)"
   ]
  },
  {
   "cell_type": "code",
   "execution_count": 13,
   "id": "ff5a8e67",
   "metadata": {},
   "outputs": [
    {
     "data": {
      "text/html": [
       "<div>\n",
       "<style scoped>\n",
       "    .dataframe tbody tr th:only-of-type {\n",
       "        vertical-align: middle;\n",
       "    }\n",
       "\n",
       "    .dataframe tbody tr th {\n",
       "        vertical-align: top;\n",
       "    }\n",
       "\n",
       "    .dataframe thead th {\n",
       "        text-align: right;\n",
       "    }\n",
       "</style>\n",
       "<table border=\"1\" class=\"dataframe\">\n",
       "  <thead>\n",
       "    <tr style=\"text-align: right;\">\n",
       "      <th></th>\n",
       "      <th>Player</th>\n",
       "      <th>Country</th>\n",
       "      <th>Club</th>\n",
       "      <th>DOB</th>\n",
       "      <th>Age</th>\n",
       "      <th>Jersey No</th>\n",
       "      <th>Position</th>\n",
       "      <th>Caps</th>\n",
       "      <th>Goals</th>\n",
       "    </tr>\n",
       "  </thead>\n",
       "  <tbody>\n",
       "    <tr>\n",
       "      <th>0</th>\n",
       "      <td>Erin nayler</td>\n",
       "      <td>New Zealand</td>\n",
       "      <td>IFK Norrk??????</td>\n",
       "      <td>1992-04-17</td>\n",
       "      <td>31</td>\n",
       "      <td>1</td>\n",
       "      <td>GK</td>\n",
       "      <td>84</td>\n",
       "      <td>0</td>\n",
       "    </tr>\n",
       "    <tr>\n",
       "      <th>1</th>\n",
       "      <td>Ria Percival (vice-captain)</td>\n",
       "      <td>New Zealand</td>\n",
       "      <td>Tottenham Hotspur</td>\n",
       "      <td>1989-07-12</td>\n",
       "      <td>33</td>\n",
       "      <td>2</td>\n",
       "      <td>MF</td>\n",
       "      <td>163</td>\n",
       "      <td>15</td>\n",
       "    </tr>\n",
       "    <tr>\n",
       "      <th>2</th>\n",
       "      <td>Claudia Bunge</td>\n",
       "      <td>New Zealand</td>\n",
       "      <td>Melbourne Victory</td>\n",
       "      <td>1999-09-21</td>\n",
       "      <td>23</td>\n",
       "      <td>3</td>\n",
       "      <td>DF</td>\n",
       "      <td>22</td>\n",
       "      <td>0</td>\n",
       "    </tr>\n",
       "    <tr>\n",
       "      <th>3</th>\n",
       "      <td>CJ Bott</td>\n",
       "      <td>New Zealand</td>\n",
       "      <td>Leicester City</td>\n",
       "      <td>1995-04-22</td>\n",
       "      <td>28</td>\n",
       "      <td>4</td>\n",
       "      <td>DF</td>\n",
       "      <td>38</td>\n",
       "      <td>3</td>\n",
       "    </tr>\n",
       "    <tr>\n",
       "      <th>4</th>\n",
       "      <td>Michaela Foster</td>\n",
       "      <td>New Zealand</td>\n",
       "      <td>Wellington Phoenix</td>\n",
       "      <td>1999-09-01</td>\n",
       "      <td>24</td>\n",
       "      <td>5</td>\n",
       "      <td>DF</td>\n",
       "      <td>6</td>\n",
       "      <td>0</td>\n",
       "    </tr>\n",
       "    <tr>\n",
       "      <th>...</th>\n",
       "      <td>...</td>\n",
       "      <td>...</td>\n",
       "      <td>...</td>\n",
       "      <td>...</td>\n",
       "      <td>...</td>\n",
       "      <td>...</td>\n",
       "      <td>...</td>\n",
       "      <td>...</td>\n",
       "      <td>...</td>\n",
       "    </tr>\n",
       "    <tr>\n",
       "      <th>731</th>\n",
       "      <td>nasey Phair</td>\n",
       "      <td>South Korea</td>\n",
       "      <td>Players Development Academy</td>\n",
       "      <td>2007-06-29</td>\n",
       "      <td>16</td>\n",
       "      <td>19</td>\n",
       "      <td>FW</td>\n",
       "      <td>0</td>\n",
       "      <td>0</td>\n",
       "    </tr>\n",
       "    <tr>\n",
       "      <th>732</th>\n",
       "      <td>Kim Hye-ri (captain)</td>\n",
       "      <td>South Korea</td>\n",
       "      <td>Incheon Hyundai Steel</td>\n",
       "      <td>1990-06-25</td>\n",
       "      <td>33</td>\n",
       "      <td>20</td>\n",
       "      <td>DF</td>\n",
       "      <td>111</td>\n",
       "      <td>1</td>\n",
       "    </tr>\n",
       "    <tr>\n",
       "      <th>733</th>\n",
       "      <td>Ryu Ji-soo</td>\n",
       "      <td>South Korea</td>\n",
       "      <td>Seoul WFC</td>\n",
       "      <td>1997-03-09</td>\n",
       "      <td>25</td>\n",
       "      <td>21</td>\n",
       "      <td>GK</td>\n",
       "      <td>0</td>\n",
       "      <td>0</td>\n",
       "    </tr>\n",
       "    <tr>\n",
       "      <th>734</th>\n",
       "      <td>Bae Ye-bin</td>\n",
       "      <td>South Korea</td>\n",
       "      <td>Uiduk University</td>\n",
       "      <td>2004-07-12</td>\n",
       "      <td>18</td>\n",
       "      <td>22</td>\n",
       "      <td>MF</td>\n",
       "      <td>2</td>\n",
       "      <td>0</td>\n",
       "    </tr>\n",
       "    <tr>\n",
       "      <th>735</th>\n",
       "      <td>Kang Chae-rim</td>\n",
       "      <td>South Korea</td>\n",
       "      <td>Incheon Hyundai Steel</td>\n",
       "      <td>1998-03-23</td>\n",
       "      <td>25</td>\n",
       "      <td>23</td>\n",
       "      <td>FW</td>\n",
       "      <td>24</td>\n",
       "      <td>6</td>\n",
       "    </tr>\n",
       "  </tbody>\n",
       "</table>\n",
       "<p>736 rows × 9 columns</p>\n",
       "</div>"
      ],
      "text/plain": [
       "                          Player      Country                         Club  \\\n",
       "0                    Erin nayler  New Zealand              IFK Norrk??????   \n",
       "1    Ria Percival (vice-captain)  New Zealand            Tottenham Hotspur   \n",
       "2                  Claudia Bunge  New Zealand            Melbourne Victory   \n",
       "3                        CJ Bott  New Zealand               Leicester City   \n",
       "4                Michaela Foster  New Zealand           Wellington Phoenix   \n",
       "..                           ...          ...                          ...   \n",
       "731                  nasey Phair  South Korea  Players Development Academy   \n",
       "732         Kim Hye-ri (captain)  South Korea        Incheon Hyundai Steel   \n",
       "733                   Ryu Ji-soo  South Korea                    Seoul WFC   \n",
       "734                   Bae Ye-bin  South Korea             Uiduk University   \n",
       "735                Kang Chae-rim  South Korea        Incheon Hyundai Steel   \n",
       "\n",
       "           DOB  Age  Jersey No Position  Caps  Goals  \n",
       "0   1992-04-17   31          1       GK    84      0  \n",
       "1   1989-07-12   33          2       MF   163     15  \n",
       "2   1999-09-21   23          3       DF    22      0  \n",
       "3   1995-04-22   28          4       DF    38      3  \n",
       "4   1999-09-01   24          5       DF     6      0  \n",
       "..         ...  ...        ...      ...   ...    ...  \n",
       "731 2007-06-29   16         19       FW     0      0  \n",
       "732 1990-06-25   33         20       DF   111      1  \n",
       "733 1997-03-09   25         21       GK     0      0  \n",
       "734 2004-07-12   18         22       MF     2      0  \n",
       "735 1998-03-23   25         23       FW    24      6  \n",
       "\n",
       "[736 rows x 9 columns]"
      ]
     },
     "execution_count": 13,
     "metadata": {},
     "output_type": "execute_result"
    }
   ],
   "source": [
    "df"
   ]
  },
  {
   "cell_type": "code",
   "execution_count": 9,
   "id": "3ae35f07",
   "metadata": {},
   "outputs": [],
   "source": [
    "#Teams Zambia, Costa Rica, Morocco have NA as number of Caps and Goals Scored, This will be replaced by 0\n",
    "df.replace('NA', '0', inplace=True)"
   ]
  },
  {
   "cell_type": "code",
   "execution_count": null,
   "id": "ac579d08",
   "metadata": {},
   "outputs": [],
   "source": [
    "# Save the modified DataFrame back to the CSV file\n",
    "df.to_csv('modified_file.csv', index=False)"
   ]
  },
  {
   "cell_type": "code",
   "execution_count": 14,
   "id": "f378984d",
   "metadata": {},
   "outputs": [],
   "source": [
    "# Calculate players' goal-to-cap ratio\n",
    "df['Goal_to_Cap_Ratio'] = df['Goals'] / df['Caps']"
   ]
  },
  {
   "cell_type": "code",
   "execution_count": 5,
   "id": "a0feb921",
   "metadata": {},
   "outputs": [
    {
     "data": {
      "text/html": [],
      "text/plain": [
       "<IPython.core.display.HTML object>"
      ]
     },
     "metadata": {},
     "output_type": "display_data"
    },
    {
     "data": {
      "application/vnd.jupyter.widget-view+json": {
       "model_id": "d89f311a478043138464e0ec2c0ee3a7",
       "version_major": 2,
       "version_minor": 0
      },
      "text/plain": [
       "Box(children=(HTML(value='<div id=\"ifr-pyg-0\" style=\"height: auto\">\\n    <head>\\n        <meta http-equiv=\"Con…"
      ]
     },
     "metadata": {},
     "output_type": "display_data"
    },
    {
     "data": {
      "text/html": [
       "<html>\n",
       "<style>\n",
       ".tabs{\n",
       "    position:relative;\n",
       "    height:660px;\n",
       "}\n",
       ".tab-pane{\n",
       "    display:inline-block;\n",
       "}\n",
       ".tabs input[type='radio']{\n",
       "    position:absolute;\n",
       "    clip:rect(0,0,0,0)\n",
       "}\n",
       ".tab-item{\n",
       "    display:block;\n",
       "    height:34px;\n",
       "    line-height:34px;\n",
       "    cursor:pointer;\n",
       "    padding:0 10px\n",
       "}\n",
       "\n",
       ".tabs input[type='radio']:checked+.tab-item{\n",
       "    background:#2563eb;\n",
       "    color:#fff\n",
       "}\n",
       "\n",
       ".tab-content{\n",
       "    display: none;\n",
       "    position:absolute;\n",
       "    left:0;\n",
       "    top:56px;\n",
       "    bottom:0;\n",
       "    right:0;\n",
       "}\n",
       "\n",
       ".tabs input[type='radio']:checked+.tab-item+.tab-content{\n",
       "    display: block;\n",
       "}\n",
       "</style>\n",
       "\n",
       "<body>\n",
       "    <div id=\"pygwalker-preview-0\">\n",
       "        <div class=\"tabs\">\n",
       "            \n",
       "        </div>\n",
       "    </div>\n",
       "</body>\n",
       "</html>"
      ],
      "text/plain": [
       "<IPython.core.display.HTML object>"
      ]
     },
     "metadata": {},
     "output_type": "display_data"
    },
    {
     "data": {
      "text/plain": [
       "<pygwalker.api.pygwalker.PygWalker at 0x28055724e20>"
      ]
     },
     "execution_count": 5,
     "metadata": {},
     "output_type": "execute_result"
    }
   ],
   "source": [
    "pyg.walk(df, dark='dark')"
   ]
  },
  {
   "cell_type": "code",
   "execution_count": null,
   "id": "c37b3e57",
   "metadata": {},
   "outputs": [],
   "source": []
  },
  {
   "cell_type": "code",
   "execution_count": null,
   "id": "4b029213",
   "metadata": {},
   "outputs": [],
   "source": []
  },
  {
   "cell_type": "code",
   "execution_count": null,
   "id": "154e9633",
   "metadata": {},
   "outputs": [],
   "source": []
  }
 ],
 "metadata": {
  "kernelspec": {
   "display_name": "Python 3 (ipykernel)",
   "language": "python",
   "name": "python3"
  },
  "language_info": {
   "codemirror_mode": {
    "name": "ipython",
    "version": 3
   },
   "file_extension": ".py",
   "mimetype": "text/x-python",
   "name": "python",
   "nbconvert_exporter": "python",
   "pygments_lexer": "ipython3",
   "version": "3.10.9"
  }
 },
 "nbformat": 4,
 "nbformat_minor": 5
}
